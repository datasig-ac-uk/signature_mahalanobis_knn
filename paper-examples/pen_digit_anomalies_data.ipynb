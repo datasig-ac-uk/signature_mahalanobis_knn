{
 "cells": [
  {
   "cell_type": "markdown",
   "metadata": {},
   "source": [
    "# Pen Digit Dataset\n",
    "\n",
    "In this notebook, we will download and save the [Pen Digit](https://archive.ics.uci.edu/dataset/81/pen+based+recognition+of+handwritten+digits) dataset. In the [pen_digit_anomalies.ipynb](pen_digit_anomalies.ipynb), we will apply the anomaly detection algorithms to the dataset. "
   ]
  },
  {
   "cell_type": "code",
   "execution_count": 1,
   "metadata": {},
   "outputs": [],
   "source": [
    "import os\n",
    "import numpy as np\n",
    "import pandas as pd\n",
    "\n",
    "import Data"
   ]
  },
  {
   "cell_type": "markdown",
   "metadata": {},
   "source": [
    "Download and extract dataset, if it does not already exist:"
   ]
  },
  {
   "cell_type": "code",
   "execution_count": 2,
   "metadata": {},
   "outputs": [],
   "source": [
    "DATASET_URLS = [\n",
    "    \"https://archive.ics.uci.edu/ml/machine-learning-databases/pendigits/pendigits-orig.tes.Z\",\n",
    "    \"https://archive.ics.uci.edu/ml/machine-learning-databases/pendigits/pendigits-orig.tra.Z\",\n",
    "]\n",
    "\n",
    "for source_url in DATASET_URLS:\n",
    "    target_filename = f\"{Data.DATA_DIR}/{source_url.split('/')[-1]}\"\n",
    "    if not os.path.exists(target_filename[:-2]):\n",
    "        try:\n",
    "            Data.download(source_url, target_filename)\n",
    "            !uncompress {target_filename}\n",
    "        except:\n",
    "            if os.path.exists(target_filename):\n",
    "                os.remove(target_filename)\n",
    "            raise"
   ]
  },
  {
   "cell_type": "markdown",
   "metadata": {},
   "source": [
    "Load dataset and create data frame:"
   ]
  },
  {
   "cell_type": "code",
   "execution_count": 3,
   "metadata": {},
   "outputs": [],
   "source": [
    "def load_pendigits_dataset(filename):\n",
    "    with open(filename, \"r\") as f:\n",
    "        data_lines = f.readlines()\n",
    "\n",
    "    data = []\n",
    "    data_labels = []\n",
    "    current_digit = None\n",
    "\n",
    "    for line in data_lines:\n",
    "        if line == \"\\n\":\n",
    "            continue\n",
    "\n",
    "        if line[0] == \".\":\n",
    "            if \"SEGMENT DIGIT\" in line[1:]:\n",
    "                if current_digit is not None:\n",
    "                    data.append(np.array(current_digit))\n",
    "                    data_labels.append(digit_label)\n",
    "\n",
    "                current_digit = []\n",
    "                digit_label = int(line.split('\"')[1])\n",
    "            else:\n",
    "                continue\n",
    "\n",
    "        else:\n",
    "            x, y = map(float, line.split())\n",
    "            current_digit.append([x, y])\n",
    "\n",
    "    data.append(np.array(current_digit))\n",
    "    data_labels.append(digit_label)\n",
    "\n",
    "    return data, data_labels"
   ]
  },
  {
   "cell_type": "code",
   "execution_count": 4,
   "metadata": {},
   "outputs": [],
   "source": [
    "data = {\n",
    "    \"train\": load_pendigits_dataset(f\"{Data.DATA_DIR}/pendigits-orig.tra\"),\n",
    "    \"test\": load_pendigits_dataset(f\"{Data.DATA_DIR}/pendigits-orig.tes\"),\n",
    "}\n",
    "\n",
    "dataframes = []\n",
    "for subset, data in data.items():\n",
    "    df = pd.DataFrame(data).T\n",
    "    df.columns = [\"Stream\", \"Digit\"]\n",
    "    df[\"Subset\"] = subset\n",
    "    dataframes.append(df)\n",
    "df = pd.concat(dataframes)"
   ]
  },
  {
   "cell_type": "code",
   "execution_count": 5,
   "metadata": {},
   "outputs": [
    {
     "data": {
      "text/html": [
       "<div>\n",
       "<style scoped>\n",
       "    .dataframe tbody tr th:only-of-type {\n",
       "        vertical-align: middle;\n",
       "    }\n",
       "\n",
       "    .dataframe tbody tr th {\n",
       "        vertical-align: top;\n",
       "    }\n",
       "\n",
       "    .dataframe thead th {\n",
       "        text-align: right;\n",
       "    }\n",
       "</style>\n",
       "<table border=\"1\" class=\"dataframe\">\n",
       "  <thead>\n",
       "    <tr style=\"text-align: right;\">\n",
       "      <th></th>\n",
       "      <th>Stream</th>\n",
       "      <th>Digit</th>\n",
       "      <th>Subset</th>\n",
       "    </tr>\n",
       "  </thead>\n",
       "  <tbody>\n",
       "    <tr>\n",
       "      <th>0</th>\n",
       "      <td>[[267.0, 333.0], [267.0, 336.0], [267.0, 339.0...</td>\n",
       "      <td>8</td>\n",
       "      <td>train</td>\n",
       "    </tr>\n",
       "    <tr>\n",
       "      <th>1</th>\n",
       "      <td>[[249.0, 234.0], [249.0, 235.0], [251.0, 238.0...</td>\n",
       "      <td>2</td>\n",
       "      <td>train</td>\n",
       "    </tr>\n",
       "    <tr>\n",
       "      <th>2</th>\n",
       "      <td>[[196.0, 228.0], [193.0, 222.0], [191.0, 218.0...</td>\n",
       "      <td>1</td>\n",
       "      <td>train</td>\n",
       "    </tr>\n",
       "    <tr>\n",
       "      <th>3</th>\n",
       "      <td>[[231.0, 309.0], [232.0, 314.0], [232.0, 318.0...</td>\n",
       "      <td>4</td>\n",
       "      <td>train</td>\n",
       "    </tr>\n",
       "    <tr>\n",
       "      <th>4</th>\n",
       "      <td>[[200.0, 273.0], [200.0, 273.0], [199.0, 271.0...</td>\n",
       "      <td>1</td>\n",
       "      <td>train</td>\n",
       "    </tr>\n",
       "    <tr>\n",
       "      <th>...</th>\n",
       "      <td>...</td>\n",
       "      <td>...</td>\n",
       "      <td>...</td>\n",
       "    </tr>\n",
       "    <tr>\n",
       "      <th>3493</th>\n",
       "      <td>[[274.0, 336.0], [276.0, 337.0], [276.0, 337.0...</td>\n",
       "      <td>4</td>\n",
       "      <td>test</td>\n",
       "    </tr>\n",
       "    <tr>\n",
       "      <th>3494</th>\n",
       "      <td>[[245.0, 320.0], [244.0, 324.0], [244.0, 327.0...</td>\n",
       "      <td>2</td>\n",
       "      <td>test</td>\n",
       "    </tr>\n",
       "    <tr>\n",
       "      <th>3495</th>\n",
       "      <td>[[299.0, 375.0], [300.0, 377.0], [305.0, 381.0...</td>\n",
       "      <td>0</td>\n",
       "      <td>test</td>\n",
       "    </tr>\n",
       "    <tr>\n",
       "      <th>3496</th>\n",
       "      <td>[[234.0, 296.0], [231.0, 291.0], [228.0, 280.0...</td>\n",
       "      <td>0</td>\n",
       "      <td>test</td>\n",
       "    </tr>\n",
       "    <tr>\n",
       "      <th>3497</th>\n",
       "      <td>[[263.0, 341.0], [269.0, 343.0], [273.0, 345.0...</td>\n",
       "      <td>4</td>\n",
       "      <td>test</td>\n",
       "    </tr>\n",
       "  </tbody>\n",
       "</table>\n",
       "<p>10992 rows × 3 columns</p>\n",
       "</div>"
      ],
      "text/plain": [
       "                                                 Stream Digit Subset\n",
       "0     [[267.0, 333.0], [267.0, 336.0], [267.0, 339.0...     8  train\n",
       "1     [[249.0, 234.0], [249.0, 235.0], [251.0, 238.0...     2  train\n",
       "2     [[196.0, 228.0], [193.0, 222.0], [191.0, 218.0...     1  train\n",
       "3     [[231.0, 309.0], [232.0, 314.0], [232.0, 318.0...     4  train\n",
       "4     [[200.0, 273.0], [200.0, 273.0], [199.0, 271.0...     1  train\n",
       "...                                                 ...   ...    ...\n",
       "3493  [[274.0, 336.0], [276.0, 337.0], [276.0, 337.0...     4   test\n",
       "3494  [[245.0, 320.0], [244.0, 324.0], [244.0, 327.0...     2   test\n",
       "3495  [[299.0, 375.0], [300.0, 377.0], [305.0, 381.0...     0   test\n",
       "3496  [[234.0, 296.0], [231.0, 291.0], [228.0, 280.0...     0   test\n",
       "3497  [[263.0, 341.0], [269.0, 343.0], [273.0, 345.0...     4   test\n",
       "\n",
       "[10992 rows x 3 columns]"
      ]
     },
     "execution_count": 5,
     "metadata": {},
     "output_type": "execute_result"
    }
   ],
   "source": [
    "df"
   ]
  },
  {
   "cell_type": "markdown",
   "metadata": {},
   "source": [
    "Obtain summary statistics for the dataset:"
   ]
  },
  {
   "cell_type": "code",
   "execution_count": 6,
   "metadata": {},
   "outputs": [
    {
     "name": "stdout",
     "output_type": "stream",
     "text": [
      "Mean corpus size: 749.4\n",
      "Testing subset size: 3498\n",
      "Mean testing outlier subset size: 3148.2\n"
     ]
    }
   ],
   "source": [
    "mean_corpus_size = df[df[\"Subset\"] == \"train\"][\"Digit\"].value_counts().mean()\n",
    "testing_data_size = len(df[df[\"Subset\"] == \"test\"])\n",
    "mean_outlier_size = (\n",
    "    testing_data_size - df[df[\"Subset\"] == \"test\"][\"Digit\"].value_counts().mean()\n",
    ")\n",
    "\n",
    "print(f\"Mean corpus size: {mean_corpus_size}\")\n",
    "print(f\"Testing subset size: {testing_data_size}\")\n",
    "print(f\"Mean testing outlier subset size: {mean_outlier_size}\")"
   ]
  },
  {
   "cell_type": "code",
   "execution_count": 7,
   "metadata": {},
   "outputs": [],
   "source": [
    "# pickle the data into train and test sets\n",
    "df[df[\"Subset\"] == \"train\"].to_pickle(f\"{Data.DATA_DIR}/pen_digit_train.pkl\")\n",
    "df[df[\"Subset\"] == \"test\"].to_pickle(f\"{Data.DATA_DIR}/pen_digit_test.pkl\")"
   ]
  }
 ],
 "metadata": {
  "hide_input": false,
  "kernelspec": {
   "display_name": "Python 3",
   "language": "python",
   "name": "python3"
  },
  "language_info": {
   "codemirror_mode": {
    "name": "ipython",
    "version": 3
   },
   "file_extension": ".py",
   "mimetype": "text/x-python",
   "name": "python",
   "nbconvert_exporter": "python",
   "pygments_lexer": "ipython3",
   "version": "3.9.18"
  }
 },
 "nbformat": 4,
 "nbformat_minor": 4
}
