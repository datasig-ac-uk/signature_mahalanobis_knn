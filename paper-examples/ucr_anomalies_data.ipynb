{
 "cells": [
  {
   "cell_type": "code",
   "execution_count": 1,
   "metadata": {},
   "outputs": [],
   "source": [
    "import os\n",
    "import shutil\n",
    "\n",
    "import Data"
   ]
  },
  {
   "cell_type": "markdown",
   "metadata": {},
   "source": [
    "Download and extract dataset, if it does not already exist:"
   ]
  },
  {
   "cell_type": "code",
   "execution_count": 4,
   "metadata": {},
   "outputs": [],
   "source": [
    "DATASET_PATH = \"Univariate_arff\"\n",
    "ZIP_URL = (\n",
    "    \"http://www.timeseriesclassification.com/Downloads/Archives/Univariate2018_arff.zip\"\n",
    ")\n",
    "ZIP_PATH = \"Univariate2018_arff.zip\"\n",
    "\n",
    "if not os.path.exists(DATASET_PATH) and not os.path.exists(ZIP_PATH):\n",
    "    try:\n",
    "        Data.download(ZIP_URL, ZIP_PATH)\n",
    "\n",
    "        # Extract dataset\n",
    "        !unzip {ZIP_PATH}\n",
    "    except:\n",
    "        if os.path.exists(DATASET_PATH):\n",
    "            shutil.rmtree(DATASET_PATH)\n",
    "        raise\n",
    "    finally:\n",
    "        if os.path.exists(ZIP_PATH):\n",
    "            os.remove(ZIP_PATH)"
   ]
  }
 ],
 "metadata": {
  "hide_input": false,
  "kernelspec": {
   "display_name": "Python 3",
   "language": "python",
   "name": "python3"
  },
  "language_info": {
   "codemirror_mode": {
    "name": "ipython",
    "version": 3
   },
   "file_extension": ".py",
   "mimetype": "text/x-python",
   "name": "python",
   "nbconvert_exporter": "python",
   "pygments_lexer": "ipython3",
   "version": "3.7.7"
  }
 },
 "nbformat": 4,
 "nbformat_minor": 4
}
