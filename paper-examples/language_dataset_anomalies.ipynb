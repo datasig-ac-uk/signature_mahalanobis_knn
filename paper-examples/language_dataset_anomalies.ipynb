{
 "cells": [
  {
   "cell_type": "markdown",
   "metadata": {},
   "source": [
    "# Detecting Anomalous Streams in the Language dataset"
   ]
  },
  {
   "cell_type": "code",
   "execution_count": 1,
   "metadata": {},
   "outputs": [],
   "source": [
    "from __future__ import annotations\n",
    "import random\n",
    "import time\n",
    "from typing import Callable\n",
    "\n",
    "import numpy as np\n",
    "import pandas as pd\n",
    "\n",
    "import Data\n",
    "from signature_mahalanobis_knn.utils import (\n",
    "    _replace_inf_with_max,\n",
    "    compute_auc_given_dists,\n",
    "    plot_cdf_given_dists,\n",
    ")\n",
    "\n",
    "from methods import (\n",
    "    compute_signature_mahalanbois_knn_scores,\n",
    "    compute_isolation_forest_scores_based_on_moments,\n",
    "    compute_isolation_forest_scores_signatures,\n",
    "    compute_local_outlier_factor_scores_based_on_moments,\n",
    "    compute_local_outlier_factor_scores_signatures,\n",
    ")"
   ]
  },
  {
   "cell_type": "code",
   "execution_count": 2,
   "metadata": {},
   "outputs": [],
   "source": [
    "# ignore warnings from sktime about using iisignature backend\n",
    "import warnings\n",
    "\n",
    "warnings.filterwarnings(\"ignore\", category=UserWarning)\n",
    "warnings.simplefilter(\"ignore\")"
   ]
  },
  {
   "cell_type": "code",
   "execution_count": 3,
   "metadata": {},
   "outputs": [],
   "source": [
    "seed = 2023\n",
    "random.seed(seed)\n",
    "np.random.seed(seed)\n",
    "\n",
    "bootstrap_samples = 10000"
   ]
  },
  {
   "cell_type": "code",
   "execution_count": 4,
   "metadata": {},
   "outputs": [],
   "source": [
    "data = Data.Data(if_sample=False, random_seed=seed)"
   ]
  },
  {
   "cell_type": "code",
   "execution_count": 5,
   "metadata": {},
   "outputs": [],
   "source": [
    "def z_score_normalization(\n",
    "    scores_1: np.array, scores_2: np.array\n",
    ") -> tuple[np.array, np.array]:\n",
    "    scores_1, scores_2 = _replace_inf_with_max(scores_1, scores_2)\n",
    "    mean = np.mean(np.concatenate([scores_1, scores_2]))\n",
    "    std = np.std(np.concatenate([scores_1, scores_2]))\n",
    "    return (scores_1 - mean) / std, (scores_2 - mean) / std\n",
    "\n",
    "\n",
    "def compute_mse(scores_1: np.array, scores_2: np.array) -> float:\n",
    "    scores_1, scores_2 = _replace_inf_with_max(scores_1, scores_2)\n",
    "    return np.nanmean((scores_1 - scores_2) ** 2)\n",
    "\n",
    "\n",
    "def compute_mae(scores_1: np.array, scores_2: np.array) -> float:\n",
    "    scores_1, scores_2 = _replace_inf_with_max(scores_1, scores_2)\n",
    "    return np.nanmean(np.abs(scores_1 - scores_2))"
   ]
  },
  {
   "cell_type": "code",
   "execution_count": 6,
   "metadata": {},
   "outputs": [],
   "source": [
    "def language_dataset_experiment(\n",
    "    data: Data.Data,\n",
    "    anomaly_detection_method: Callable[[Data.Data], dict[str, np.array | float]],\n",
    "    anomaly_detection_kwargs: dict | None = None,\n",
    "    add_depth_to_kwargs: bool = False,\n",
    "    plot: bool = False,\n",
    "    plot_kwargs: dict | None = None,\n",
    ") -> dict[str, np.array | float]:\n",
    "    t0 = time.time()\n",
    "\n",
    "    if anomaly_detection_kwargs is None:\n",
    "        anomaly_detection_kwargs = {}\n",
    "    if plot_kwargs is None:\n",
    "        plot_kwargs = {}\n",
    "\n",
    "    results_language_dataset = {\n",
    "        \"cumsum\": [],\n",
    "        \"with_prefix\": [],\n",
    "        \"auc\": [],\n",
    "        \"se\": [],\n",
    "        \"total_fit_time\": [],\n",
    "        \"total_compute_score_time\": [],\n",
    "        \"mse_between_scores\": [],\n",
    "        \"rmse_between_scores\": [],\n",
    "        \"mae_between_scores\": [],\n",
    "        \"mse_between_norm_scores\": [],\n",
    "        \"rmse_between_norm_scores\": [],\n",
    "        \"mae_between_norm_scores\": [],\n",
    "    }\n",
    "\n",
    "    fit_times = []\n",
    "    compute_times = []\n",
    "\n",
    "    scores = {\"cumsum\": [], \"scores\": [], \"normalised_scores\": []}\n",
    "\n",
    "    for cumsum in [False, True]:\n",
    "        scores[\"cumsum\"].append(cumsum)\n",
    "        anomaly_scores = {}\n",
    "        for with_prefix in [False, True]:\n",
    "            # save hyperparameters for results\n",
    "            results_language_dataset[\"cumsum\"].append(cumsum)\n",
    "            results_language_dataset[\"with_prefix\"].append(with_prefix)\n",
    "\n",
    "            data.load_language_data(cumsum=cumsum, with_prefix=with_prefix)\n",
    "            print(f\"start cumsum: {cumsum}, with_prefix: {with_prefix}\")\n",
    "\n",
    "            if add_depth_to_kwargs:\n",
    "                anomaly_detection_kwargs[\"depth\"] = 2\n",
    "\n",
    "            # compute the inlier and outlier scores\n",
    "            results = anomaly_detection_method(data, **anomaly_detection_kwargs)\n",
    "\n",
    "            # save fit and compute times\n",
    "            fit_times.append(results[\"fit_time\"])\n",
    "            compute_times.append(results[\"compute_score_time\"])\n",
    "\n",
    "            # compute auc for digit\n",
    "            auc = compute_auc_given_dists(\n",
    "                results[\"scores_inliers\"], results[\"scores_outliers\"]\n",
    "            )\n",
    "\n",
    "            # plot and compute auc\n",
    "            auc, se = compute_auc_given_dists(\n",
    "                results[\"scores_inliers\"],\n",
    "                results[\"scores_outliers\"],\n",
    "                bootstrap=True,\n",
    "                bootstrap_samples=bootstrap_samples,\n",
    "                random_state=seed,\n",
    "                plot=plot,\n",
    "                title=f\"Language Dataset (with prefix={with_prefix})\",\n",
    "            )\n",
    "\n",
    "            # save results\n",
    "            results_language_dataset[\"auc\"].append(auc)\n",
    "            results_language_dataset[\"se\"].append(se)\n",
    "            results_language_dataset[\"total_fit_time\"].append(np.sum(fit_times))\n",
    "            results_language_dataset[\"total_compute_score_time\"].append(\n",
    "                np.sum(compute_times)\n",
    "            )\n",
    "\n",
    "            # save scores\n",
    "            anomaly_scores[f\"with_prefix={with_prefix}\"] = np.concatenate(\n",
    "                [results[\"scores_inliers\"], results[\"scores_outliers\"]]\n",
    "            )\n",
    "\n",
    "            if plot:\n",
    "                # plot CDF\n",
    "                plot_cdf_given_dists(\n",
    "                    results[\"scores_inliers\"],\n",
    "                    results[\"scores_outliers\"],\n",
    "                    bins=10000000,\n",
    "                    **plot_kwargs,\n",
    "                )\n",
    "\n",
    "            print(\n",
    "                f\"cumsum: {cumsum}, with prefix: {with_prefix} | auc: {auc}, se: {se}\"\n",
    "            )\n",
    "\n",
    "        scores[\"scores\"].append(tuple(anomaly_scores))\n",
    "        normalised_scores = {}\n",
    "        (\n",
    "            normalised_scores[\"with_prefix=True\"],\n",
    "            normalised_scores[\"with_prefix=False\"],\n",
    "        ) = z_score_normalization(\n",
    "            anomaly_scores[\"with_prefix=True\"], anomaly_scores[\"with_prefix=False\"]\n",
    "        )\n",
    "        scores[\"normalised_scores\"].append(normalised_scores)\n",
    "\n",
    "        # compute MSE, RMSE, MAE between scores\n",
    "        mse_between_scores = compute_mse(\n",
    "            anomaly_scores[\"with_prefix=True\"], anomaly_scores[\"with_prefix=False\"]\n",
    "        )\n",
    "        rmse_between_scores = np.sqrt(mse_between_scores)\n",
    "        mae_between_scores = compute_mae(\n",
    "            anomaly_scores[\"with_prefix=True\"], anomaly_scores[\"with_prefix=False\"]\n",
    "        )\n",
    "        print(\n",
    "            f\"MSE between scores (cumsum={cumsum}) with and without prefix: {mse_between_scores}\"\n",
    "        )\n",
    "        print(\n",
    "            f\"RMSE between scores (cumsum={cumsum}) with and without prefix: {rmse_between_scores}\"\n",
    "        )\n",
    "        print(\n",
    "            f\"MAE between scores (cumsum={cumsum}) with and without prefix: {mae_between_scores}\"\n",
    "        )\n",
    "        # save results (twice because we have two with_prefix values to make the dataframe)\n",
    "        results_language_dataset[\"mse_between_scores\"] += 2 * [mse_between_scores]\n",
    "        results_language_dataset[\"rmse_between_scores\"] += 2 * [rmse_between_scores]\n",
    "        results_language_dataset[\"mae_between_scores\"] += 2 * [mae_between_scores]\n",
    "\n",
    "        # compute MSE, RMSE, MAE between the normalised scores\n",
    "        mse_between_scores_with_norm = compute_mse(\n",
    "            normalised_scores[\"with_prefix=True\"],\n",
    "            normalised_scores[\"with_prefix=False\"],\n",
    "        )\n",
    "        rmse_between_scores_with_norm = np.sqrt(mse_between_scores_with_norm)\n",
    "        mae_between_scores_with_norm = compute_mae(\n",
    "            normalised_scores[\"with_prefix=True\"],\n",
    "            normalised_scores[\"with_prefix=False\"],\n",
    "        )\n",
    "        print(\n",
    "            f\"MSE (normalised) between scores (cumsum={cumsum}) with and without prefix: {mse_between_scores_with_norm}\"\n",
    "        )\n",
    "        print(\n",
    "            f\"RMSE (normalised) between scores (cumsum={cumsum}) with and without prefix: {rmse_between_scores_with_norm}\"\n",
    "        )\n",
    "        print(\n",
    "            f\"MAE (normalised) between scores (cumsum={cumsum}) with and without prefix: {mae_between_scores_with_norm}\"\n",
    "        )\n",
    "        # save results (twice because we have two with_prefix values to make the dataframe)\n",
    "        results_language_dataset[\"mse_between_norm_scores\"] += 2 * [mse_between_scores]\n",
    "        results_language_dataset[\"rmse_between_norm_scores\"] += 2 * [\n",
    "            rmse_between_scores\n",
    "        ]\n",
    "        results_language_dataset[\"mae_between_norm_scores\"] += 2 * [mae_between_scores]\n",
    "\n",
    "    total_time = time.time() - t0\n",
    "    print(f\"Total experiment time: {total_time} seconds | {total_time / 60} minutes\")\n",
    "\n",
    "    return results_language_dataset, scores"
   ]
  },
  {
   "cell_type": "markdown",
   "metadata": {},
   "source": [
    "## Signature Mahalanobis KNN"
   ]
  },
  {
   "cell_type": "code",
   "execution_count": 7,
   "metadata": {},
   "outputs": [],
   "source": [
    "n_neighbours = 100"
   ]
  },
  {
   "cell_type": "code",
   "execution_count": 8,
   "metadata": {},
   "outputs": [
    {
     "name": "stderr",
     "output_type": "stream",
     "text": [
      "100%|██████████| 70615/70615 [00:00<00:00, 275745.29it/s]\n",
      "100%|██████████| 20000/20000 [00:00<00:00, 238345.23it/s]\n"
     ]
    },
    {
     "name": "stdout",
     "output_type": "stream",
     "text": [
      "start cumsum: False, with_prefix: False\n",
      "fit_time: 11909.900458812714\n",
      "compute_score_time: 131.26868200302124\n"
     ]
    },
    {
     "data": {
      "image/png": "[encoded data removed]",
      "text/plain": [
       "<Figure size 600x600 with 1 Axes>"
      ]
     },
     "metadata": {},
     "output_type": "display_data"
    },
    {
     "data": {
      "image/png": "[encoded data removed]",
      "text/plain": [
       "<Figure size 600x600 with 1 Axes>"
      ]
     },
     "metadata": {},
     "output_type": "display_data"
    },
    {
     "name": "stdout",
     "output_type": "stream",
     "text": [
      "cumsum: False, with prefix: False | auc: 0.798655525, se: 0.0030846640070882475\n"
     ]
    },
    {
     "name": "stderr",
     "output_type": "stream",
     "text": [
      "100%|██████████| 70615/70615 [00:00<00:00, 104094.53it/s]\n",
      "100%|██████████| 20000/20000 [00:00<00:00, 101822.77it/s]\n"
     ]
    },
    {
     "name": "stdout",
     "output_type": "stream",
     "text": [
      "start cumsum: False, with_prefix: True\n",
      "fit_time: 11778.503013849258\n",
      "compute_score_time: 139.26858377456665\n"
     ]
    },
    {
     "data": {
      "image/png": "[encoded data removed]",
      "text/plain": [
       "<Figure size 600x600 with 1 Axes>"
      ]
     },
     "metadata": {},
     "output_type": "display_data"
    },
    {
     "data": {
      "image/png": "[encoded data removed]",
      "text/plain": [
       "<Figure size 600x600 with 1 Axes>"
      ]
     },
     "metadata": {},
     "output_type": "display_data"
    },
    {
     "name": "stdout",
     "output_type": "stream",
     "text": [
      "cumsum: False, with prefix: True | auc: 0.8645835500000001, se: 0.0025788060394353837\n",
      "MSE between scores (cumsum=False) with and without prefix: 0.04824604383356553\n",
      "RMSE between scores (cumsum=False) with and without prefix: 0.21964982092768828\n",
      "MAE between scores (cumsum=False) with and without prefix: 0.037033117556071235\n",
      "MSE (normalised) between scores (cumsum=False) with and without prefix: 1.1171786487600954\n",
      "RMSE (normalised) between scores (cumsum=False) with and without prefix: 1.0569667207438915\n",
      "MAE (normalised) between scores (cumsum=False) with and without prefix: 0.17820534820763628\n"
     ]
    },
    {
     "name": "stderr",
     "output_type": "stream",
     "text": [
      "100%|██████████| 70615/70615 [00:00<00:00, 122638.28it/s]\n",
      "100%|██████████| 20000/20000 [00:00<00:00, 157090.63it/s]\n"
     ]
    },
    {
     "name": "stdout",
     "output_type": "stream",
     "text": [
      "start cumsum: True, with_prefix: False\n",
      "fit_time: 12482.772598981857\n",
      "compute_score_time: 95.868243932724\n"
     ]
    },
    {
     "data": {
      "image/png": "[encoded data removed]",
      "text/plain": [
       "<Figure size 600x600 with 1 Axes>"
      ]
     },
     "metadata": {},
     "output_type": "display_data"
    },
    {
     "data": {
      "image/png": "[encoded data removed]",
      "text/plain": [
       "<Figure size 600x600 with 1 Axes>"
      ]
     },
     "metadata": {},
     "output_type": "display_data"
    },
    {
     "name": "stdout",
     "output_type": "stream",
     "text": [
      "cumsum: True, with prefix: False | auc: 0.8776404200000001, se: 0.0023891142116481837\n"
     ]
    },
    {
     "name": "stderr",
     "output_type": "stream",
     "text": [
      "100%|██████████| 70615/70615 [00:00<00:00, 73440.07it/s]\n",
      "100%|██████████| 20000/20000 [00:00<00:00, 73235.38it/s]\n"
     ]
    },
    {
     "name": "stdout",
     "output_type": "stream",
     "text": [
      "start cumsum: True, with_prefix: True\n"
     ]
    }
   ],
   "source": [
    "(\n",
    "    results_language_dataset_signature_mahalanobis_knn,\n",
    "    smk_scores,\n",
    ") = language_dataset_experiment(\n",
    "    data=data,\n",
    "    anomaly_detection_method=compute_signature_mahalanbois_knn_scores,\n",
    "    anomaly_detection_kwargs={\n",
    "        \"backend\": \"iisignature\",\n",
    "        \"knn_library\": \"sklearn\",\n",
    "        \"n_neighbours\": n_neighbours,\n",
    "        \"random_state\": seed,\n",
    "    },\n",
    "    add_depth_to_kwargs=True,\n",
    "    plot=True,\n",
    "    plot_kwargs=None,\n",
    ")"
   ]
  },
  {
   "cell_type": "code",
   "execution_count": null,
   "metadata": {},
   "outputs": [],
   "source": [
    "pd.DataFrame(results_language_dataset_signature_mahalanobis_knn)"
   ]
  },
  {
   "cell_type": "code",
   "execution_count": null,
   "metadata": {},
   "outputs": [],
   "source": [
    "pd.DataFrame(results_language_dataset_signature_mahalanobis_knn).to_csv(\n",
    "    \"results/language_dataset_signature_mahalanobis_knn.csv\"\n",
    ")"
   ]
  },
  {
   "cell_type": "markdown",
   "metadata": {},
   "source": [
    "## Baseline: Isolation Forest"
   ]
  },
  {
   "cell_type": "markdown",
   "metadata": {},
   "source": [
    "### Using moments as features"
   ]
  },
  {
   "cell_type": "code",
   "execution_count": null,
   "metadata": {},
   "outputs": [
    {
     "name": "stderr",
     "output_type": "stream",
     "text": [
      "100%|██████████| 70615/70615 [00:00<00:00, 309067.02it/s]\n",
      "100%|██████████| 20000/20000 [00:00<00:00, 265167.74it/s]\n"
     ]
    },
    {
     "name": "stdout",
     "output_type": "stream",
     "text": [
      "start cumsum: False, with_prefix: False\n",
      "fit_time: 0.10591506958007812\n",
      "compute_score_time: 0.07188820838928223\n",
      "cumsum: False, with prefix: False | auc: 0.48081160500000003, se: 0.004103368581742017\n"
     ]
    },
    {
     "name": "stderr",
     "output_type": "stream",
     "text": [
      "100%|██████████| 70615/70615 [00:00<00:00, 124025.48it/s]\n",
      "100%|██████████| 20000/20000 [00:00<00:00, 120845.11it/s]\n"
     ]
    },
    {
     "name": "stdout",
     "output_type": "stream",
     "text": [
      "start cumsum: False, with_prefix: True\n",
      "fit_time: 0.10387825965881348\n",
      "compute_score_time: 0.06962418556213379\n",
      "cumsum: False, with prefix: True | auc: 0.6342248149999999, se: 0.003884960947243883\n",
      "MSE between scores (cumsum=False) with and without prefix: 0.003436300899818589\n",
      "RMSE between scores (cumsum=False) with and without prefix: 0.05861997014515266\n",
      "MAE between scores (cumsum=False) with and without prefix: 0.05052056571413158\n",
      "MSE (normalised) between scores (cumsum=False) with and without prefix: 2.5530407537133257\n",
      "RMSE (normalised) between scores (cumsum=False) with and without prefix: 1.5978237555229067\n",
      "MAE (normalised) between scores (cumsum=False) with and without prefix: 1.3770556320757623\n"
     ]
    },
    {
     "name": "stderr",
     "output_type": "stream",
     "text": [
      "100%|██████████| 70615/70615 [00:00<00:00, 193389.45it/s]\n",
      "100%|██████████| 20000/20000 [00:00<00:00, 173391.43it/s]\n"
     ]
    },
    {
     "name": "stdout",
     "output_type": "stream",
     "text": [
      "start cumsum: True, with_prefix: False\n",
      "fit_time: 0.1050119400024414\n",
      "compute_score_time: 0.06078672409057617\n",
      "cumsum: True, with prefix: False | auc: 0.71275548, se: 0.003627706192352872\n"
     ]
    },
    {
     "name": "stderr",
     "output_type": "stream",
     "text": [
      "100%|██████████| 70615/70615 [00:00<00:00, 83713.57it/s]\n",
      "100%|██████████| 20000/20000 [00:00<00:00, 79831.06it/s]\n"
     ]
    },
    {
     "name": "stdout",
     "output_type": "stream",
     "text": [
      "start cumsum: True, with_prefix: True\n",
      "fit_time: 0.10580778121948242\n",
      "compute_score_time: 0.06490182876586914\n",
      "cumsum: True, with prefix: True | auc: 0.7391926499999999, se: 0.0034993420253571716\n",
      "MSE between scores (cumsum=True) with and without prefix: 0.0016967020267764222\n",
      "RMSE between scores (cumsum=True) with and without prefix: 0.041191043040646864\n",
      "MAE between scores (cumsum=True) with and without prefix: 0.0340457041759254\n",
      "MSE (normalised) between scores (cumsum=True) with and without prefix: 0.8109855708847232\n",
      "RMSE (normalised) between scores (cumsum=True) with and without prefix: 0.9005473729264459\n",
      "MAE (normalised) between scores (cumsum=True) with and without prefix: 0.7443309805193774\n",
      "Total experiment time: 228.52970695495605 seconds | 3.8088284492492677 minutes\n"
     ]
    }
   ],
   "source": [
    "(\n",
    "    results_language_dataset_isolation_forest_moments,\n",
    "    ifm_scores,\n",
    ") = language_dataset_experiment(\n",
    "    data=data,\n",
    "    anomaly_detection_method=compute_isolation_forest_scores_based_on_moments,\n",
    "    anomaly_detection_kwargs={\"random_state\": seed},\n",
    "    add_depth_to_kwargs=False,\n",
    "    plot=False,\n",
    "    plot_kwargs=None,\n",
    ")"
   ]
  },
  {
   "cell_type": "code",
   "execution_count": null,
   "metadata": {},
   "outputs": [
    {
     "data": {
      "text/plain": [
       "{'cumsum': [False, True],\n",
       " 'scores': [('with_prefix=False', 'with_prefix=True'),\n",
       "  ('with_prefix=False', 'with_prefix=True')],\n",
       " 'normalised_scores': [{'with_prefix=True': array([0.13342156, 0.63380013, 0.412591  , ..., 0.32844934, 0.87848177,\n",
       "          1.73847531]),\n",
       "   'with_prefix=False': array([-6.46131212e-01, -8.05994725e-01, -7.16190727e-01, ...,\n",
       "          -7.45588700e-01, -2.74451802e-01, -4.47751595e-04])},\n",
       "  {'with_prefix=True': array([-0.68918504,  0.02739014, -0.73919443, ..., -0.1830715 ,\n",
       "           0.26925301,  1.17220621]),\n",
       "   'with_prefix=False': array([-1.21133284, -0.62809284, -1.2017995 , ..., -0.30176918,\n",
       "          -0.36429148, -0.78638783])}]}"
      ]
     },
     "execution_count": 59,
     "metadata": {},
     "output_type": "execute_result"
    }
   ],
   "source": [
    "ifm_scores"
   ]
  },
  {
   "cell_type": "code",
   "execution_count": null,
   "metadata": {},
   "outputs": [
    {
     "data": {
      "text/html": [
       "<div>\n",
       "<style scoped>\n",
       "    .dataframe tbody tr th:only-of-type {\n",
       "        vertical-align: middle;\n",
       "    }\n",
       "\n",
       "    .dataframe tbody tr th {\n",
       "        vertical-align: top;\n",
       "    }\n",
       "\n",
       "    .dataframe thead th {\n",
       "        text-align: right;\n",
       "    }\n",
       "</style>\n",
       "<table border=\"1\" class=\"dataframe\">\n",
       "  <thead>\n",
       "    <tr style=\"text-align: right;\">\n",
       "      <th></th>\n",
       "      <th>cumsum</th>\n",
       "      <th>with_prefix</th>\n",
       "      <th>auc</th>\n",
       "      <th>se</th>\n",
       "      <th>total_fit_time</th>\n",
       "      <th>total_compute_score_time</th>\n",
       "      <th>mse_between_scores</th>\n",
       "      <th>rmse_between_scores</th>\n",
       "      <th>mae_between_scores</th>\n",
       "      <th>mse_between_norm_scores</th>\n",
       "      <th>rmse_between_norm_scores</th>\n",
       "      <th>mae_between_norm_scores</th>\n",
       "    </tr>\n",
       "  </thead>\n",
       "  <tbody>\n",
       "    <tr>\n",
       "      <th>0</th>\n",
       "      <td>False</td>\n",
       "      <td>False</td>\n",
       "      <td>0.480812</td>\n",
       "      <td>0.004103</td>\n",
       "      <td>0.105915</td>\n",
       "      <td>0.071888</td>\n",
       "      <td>0.003436</td>\n",
       "      <td>0.058620</td>\n",
       "      <td>0.050521</td>\n",
       "      <td>0.003436</td>\n",
       "      <td>0.058620</td>\n",
       "      <td>0.050521</td>\n",
       "    </tr>\n",
       "    <tr>\n",
       "      <th>1</th>\n",
       "      <td>False</td>\n",
       "      <td>True</td>\n",
       "      <td>0.634225</td>\n",
       "      <td>0.003885</td>\n",
       "      <td>0.209793</td>\n",
       "      <td>0.141512</td>\n",
       "      <td>0.003436</td>\n",
       "      <td>0.058620</td>\n",
       "      <td>0.050521</td>\n",
       "      <td>0.003436</td>\n",
       "      <td>0.058620</td>\n",
       "      <td>0.050521</td>\n",
       "    </tr>\n",
       "    <tr>\n",
       "      <th>2</th>\n",
       "      <td>True</td>\n",
       "      <td>False</td>\n",
       "      <td>0.712755</td>\n",
       "      <td>0.003628</td>\n",
       "      <td>0.314805</td>\n",
       "      <td>0.202299</td>\n",
       "      <td>0.001697</td>\n",
       "      <td>0.041191</td>\n",
       "      <td>0.034046</td>\n",
       "      <td>0.001697</td>\n",
       "      <td>0.041191</td>\n",
       "      <td>0.034046</td>\n",
       "    </tr>\n",
       "    <tr>\n",
       "      <th>3</th>\n",
       "      <td>True</td>\n",
       "      <td>True</td>\n",
       "      <td>0.739193</td>\n",
       "      <td>0.003499</td>\n",
       "      <td>0.420613</td>\n",
       "      <td>0.267201</td>\n",
       "      <td>0.001697</td>\n",
       "      <td>0.041191</td>\n",
       "      <td>0.034046</td>\n",
       "      <td>0.001697</td>\n",
       "      <td>0.041191</td>\n",
       "      <td>0.034046</td>\n",
       "    </tr>\n",
       "  </tbody>\n",
       "</table>\n",
       "</div>"
      ],
      "text/plain": [
       "   cumsum  with_prefix       auc        se  total_fit_time  \\\n",
       "0   False        False  0.480812  0.004103        0.105915   \n",
       "1   False         True  0.634225  0.003885        0.209793   \n",
       "2    True        False  0.712755  0.003628        0.314805   \n",
       "3    True         True  0.739193  0.003499        0.420613   \n",
       "\n",
       "   total_compute_score_time  mse_between_scores  rmse_between_scores  \\\n",
       "0                  0.071888            0.003436             0.058620   \n",
       "1                  0.141512            0.003436             0.058620   \n",
       "2                  0.202299            0.001697             0.041191   \n",
       "3                  0.267201            0.001697             0.041191   \n",
       "\n",
       "   mae_between_scores  mse_between_norm_scores  rmse_between_norm_scores  \\\n",
       "0            0.050521                 0.003436                  0.058620   \n",
       "1            0.050521                 0.003436                  0.058620   \n",
       "2            0.034046                 0.001697                  0.041191   \n",
       "3            0.034046                 0.001697                  0.041191   \n",
       "\n",
       "   mae_between_norm_scores  \n",
       "0                 0.050521  \n",
       "1                 0.050521  \n",
       "2                 0.034046  \n",
       "3                 0.034046  "
      ]
     },
     "execution_count": 61,
     "metadata": {},
     "output_type": "execute_result"
    }
   ],
   "source": [
    "pd.DataFrame(results_language_dataset_isolation_forest_moments)"
   ]
  },
  {
   "cell_type": "code",
   "execution_count": null,
   "metadata": {},
   "outputs": [],
   "source": [
    "pd.DataFrame(results_language_dataset_isolation_forest_moments).to_csv(\n",
    "    \"results/language_dataset_isolation_forest_moments.csv\"\n",
    ")"
   ]
  },
  {
   "cell_type": "markdown",
   "metadata": {},
   "source": [
    "### Using path signatures as features"
   ]
  },
  {
   "cell_type": "code",
   "execution_count": null,
   "metadata": {},
   "outputs": [
    {
     "name": "stderr",
     "output_type": "stream",
     "text": [
      "100%|██████████| 70615/70615 [00:00<00:00, 301502.91it/s]\n",
      "100%|██████████| 20000/20000 [00:00<00:00, 273485.08it/s]\n"
     ]
    },
    {
     "name": "stdout",
     "output_type": "stream",
     "text": [
      "start cumsum: False, with_prefix: False\n",
      "fit_time: 0.15921783447265625\n",
      "compute_score_time: 0.12325215339660645\n",
      "cumsum: False, with prefix: False | auc: 0.643683775, se: 0.003871060373736696\n"
     ]
    },
    {
     "name": "stderr",
     "output_type": "stream",
     "text": [
      "100%|██████████| 70615/70615 [00:00<00:00, 123436.79it/s]\n",
      "100%|██████████| 20000/20000 [00:00<00:00, 119682.35it/s]\n"
     ]
    },
    {
     "name": "stdout",
     "output_type": "stream",
     "text": [
      "start cumsum: False, with_prefix: True\n",
      "fit_time: 0.12366199493408203\n",
      "compute_score_time: 0.10447096824645996\n",
      "cumsum: False, with prefix: True | auc: 0.6148406450000001, se: 0.003967800265725457\n",
      "MSE between scores (cumsum=False) with and without prefix: 0.00014941488322926688\n",
      "RMSE between scores (cumsum=False) with and without prefix: 0.012223538081474892\n",
      "MAE between scores (cumsum=False) with and without prefix: 0.009520642218273602\n"
     ]
    },
    {
     "name": "stderr",
     "output_type": "stream",
     "text": [
      "100%|██████████| 70615/70615 [00:00<00:00, 190558.19it/s]\n",
      "100%|██████████| 20000/20000 [00:00<00:00, 167284.36it/s]\n"
     ]
    },
    {
     "name": "stdout",
     "output_type": "stream",
     "text": [
      "start cumsum: True, with_prefix: False\n",
      "fit_time: 0.1294260025024414\n",
      "compute_score_time: 0.0986928939819336\n",
      "cumsum: True, with prefix: False | auc: 0.722898575, se: 0.00357524646388613\n"
     ]
    },
    {
     "name": "stderr",
     "output_type": "stream",
     "text": [
      "100%|██████████| 70615/70615 [00:00<00:00, 84747.59it/s]\n",
      "100%|██████████| 20000/20000 [00:00<00:00, 81314.11it/s]\n"
     ]
    },
    {
     "name": "stdout",
     "output_type": "stream",
     "text": [
      "start cumsum: True, with_prefix: True\n",
      "fit_time: 0.12419819831848145\n",
      "compute_score_time: 0.11759805679321289\n",
      "cumsum: True, with prefix: True | auc: 0.7214370449999999, se: 0.0035619707497822413\n",
      "MSE between scores (cumsum=True) with and without prefix: 0.001229020496122409\n",
      "RMSE between scores (cumsum=True) with and without prefix: 0.03505738860957001\n",
      "MAE between scores (cumsum=True) with and without prefix: 0.030745399691977444\n",
      "Total experiment time: 312.391930103302 seconds | 5.2065321683883665 minutes\n"
     ]
    }
   ],
   "source": [
    "(\n",
    "    results_language_dataset_isolation_forest_signatures,\n",
    "    ifs_scores,\n",
    ") = language_dataset_experiment(\n",
    "    data=data,\n",
    "    anomaly_detection_method=compute_isolation_forest_scores_signatures,\n",
    "    anomaly_detection_kwargs={\"backend\": \"iisignature\", \"random_state\": seed},\n",
    "    add_depth_to_kwargs=True,\n",
    "    plot=False,\n",
    "    plot_kwargs=None,\n",
    ")"
   ]
  },
  {
   "cell_type": "code",
   "execution_count": null,
   "metadata": {},
   "outputs": [
    {
     "data": {
      "text/plain": [
       "{'cumsum': [False, True],\n",
       " 'scores': [{'with_prefix=False': array([0.31781821, 0.32516629, 0.3125105 , ..., 0.32442878, 0.33209533,\n",
       "          0.33104716]),\n",
       "   'with_prefix=True': array([0.30953645, 0.3206744 , 0.31051096, ..., 0.33292217, 0.3178306 ,\n",
       "          0.33336384])},\n",
       "  {'with_prefix=False': array([0.30489304, 0.32983555, 0.30765616, ..., 0.3281988 , 0.34777753,\n",
       "          0.34920208]),\n",
       "   'with_prefix=True': array([0.32966356, 0.37016297, 0.33947163, ..., 0.3879774 , 0.39587632,\n",
       "          0.39373333])}]}"
      ]
     },
     "execution_count": 49,
     "metadata": {},
     "output_type": "execute_result"
    }
   ],
   "source": [
    "ifs_scores"
   ]
  },
  {
   "cell_type": "code",
   "execution_count": null,
   "metadata": {},
   "outputs": [
    {
     "data": {
      "text/html": [
       "<div>\n",
       "<style scoped>\n",
       "    .dataframe tbody tr th:only-of-type {\n",
       "        vertical-align: middle;\n",
       "    }\n",
       "\n",
       "    .dataframe tbody tr th {\n",
       "        vertical-align: top;\n",
       "    }\n",
       "\n",
       "    .dataframe thead th {\n",
       "        text-align: right;\n",
       "    }\n",
       "</style>\n",
       "<table border=\"1\" class=\"dataframe\">\n",
       "  <thead>\n",
       "    <tr style=\"text-align: right;\">\n",
       "      <th></th>\n",
       "      <th>cumsum</th>\n",
       "      <th>with_prefix</th>\n",
       "      <th>auc</th>\n",
       "      <th>se</th>\n",
       "      <th>total_fit_time</th>\n",
       "      <th>total_compute_score_time</th>\n",
       "      <th>mse_between_scores</th>\n",
       "      <th>rmse_between_scores</th>\n",
       "      <th>mae_between_scores</th>\n",
       "    </tr>\n",
       "  </thead>\n",
       "  <tbody>\n",
       "    <tr>\n",
       "      <th>0</th>\n",
       "      <td>False</td>\n",
       "      <td>False</td>\n",
       "      <td>0.643684</td>\n",
       "      <td>0.003871</td>\n",
       "      <td>0.159218</td>\n",
       "      <td>0.123252</td>\n",
       "      <td>0.001229</td>\n",
       "      <td>0.035057</td>\n",
       "      <td>0.030745</td>\n",
       "    </tr>\n",
       "    <tr>\n",
       "      <th>1</th>\n",
       "      <td>False</td>\n",
       "      <td>True</td>\n",
       "      <td>0.614841</td>\n",
       "      <td>0.003968</td>\n",
       "      <td>0.282880</td>\n",
       "      <td>0.227723</td>\n",
       "      <td>0.001229</td>\n",
       "      <td>0.035057</td>\n",
       "      <td>0.030745</td>\n",
       "    </tr>\n",
       "    <tr>\n",
       "      <th>2</th>\n",
       "      <td>True</td>\n",
       "      <td>False</td>\n",
       "      <td>0.722899</td>\n",
       "      <td>0.003575</td>\n",
       "      <td>0.412306</td>\n",
       "      <td>0.326416</td>\n",
       "      <td>0.001229</td>\n",
       "      <td>0.035057</td>\n",
       "      <td>0.030745</td>\n",
       "    </tr>\n",
       "    <tr>\n",
       "      <th>3</th>\n",
       "      <td>True</td>\n",
       "      <td>True</td>\n",
       "      <td>0.721437</td>\n",
       "      <td>0.003562</td>\n",
       "      <td>0.536504</td>\n",
       "      <td>0.444014</td>\n",
       "      <td>0.001229</td>\n",
       "      <td>0.035057</td>\n",
       "      <td>0.030745</td>\n",
       "    </tr>\n",
       "  </tbody>\n",
       "</table>\n",
       "</div>"
      ],
      "text/plain": [
       "   cumsum  with_prefix       auc        se  total_fit_time  \\\n",
       "0   False        False  0.643684  0.003871        0.159218   \n",
       "1   False         True  0.614841  0.003968        0.282880   \n",
       "2    True        False  0.722899  0.003575        0.412306   \n",
       "3    True         True  0.721437  0.003562        0.536504   \n",
       "\n",
       "   total_compute_score_time  mse_between_scores  rmse_between_scores  \\\n",
       "0                  0.123252            0.001229             0.035057   \n",
       "1                  0.227723            0.001229             0.035057   \n",
       "2                  0.326416            0.001229             0.035057   \n",
       "3                  0.444014            0.001229             0.035057   \n",
       "\n",
       "   mae_between_scores  \n",
       "0            0.030745  \n",
       "1            0.030745  \n",
       "2            0.030745  \n",
       "3            0.030745  "
      ]
     },
     "execution_count": 50,
     "metadata": {},
     "output_type": "execute_result"
    }
   ],
   "source": [
    "pd.DataFrame(results_language_dataset_isolation_forest_signatures)"
   ]
  },
  {
   "cell_type": "code",
   "execution_count": null,
   "metadata": {},
   "outputs": [],
   "source": [
    "pd.DataFrame(results_language_dataset_isolation_forest_signatures).to_csv(\n",
    "    \"results/language_dataset_isolation_forest_signatures.csv\"\n",
    ")"
   ]
  },
  {
   "cell_type": "markdown",
   "metadata": {},
   "source": [
    "## Baseline: Local Outlier Factor\n"
   ]
  },
  {
   "cell_type": "markdown",
   "metadata": {},
   "source": [
    "### Using moments as features"
   ]
  },
  {
   "cell_type": "code",
   "execution_count": null,
   "metadata": {},
   "outputs": [
    {
     "name": "stderr",
     "output_type": "stream",
     "text": [
      "100%|██████████| 70615/70615 [00:00<00:00, 304473.41it/s]\n",
      "100%|██████████| 20000/20000 [00:00<00:00, 271466.32it/s]\n"
     ]
    },
    {
     "name": "stdout",
     "output_type": "stream",
     "text": [
      "start cumsum: False, with_prefix: False\n",
      "fit_time: 21.977287769317627\n",
      "compute_score_time: 0.000308990478515625\n",
      "cumsum: False, with prefix: False | auc: 0.4616964, se: 0.004081516404594727\n"
     ]
    },
    {
     "name": "stderr",
     "output_type": "stream",
     "text": [
      "100%|██████████| 70615/70615 [00:00<00:00, 117732.01it/s]\n",
      "100%|██████████| 20000/20000 [00:00<00:00, 123815.81it/s]\n"
     ]
    },
    {
     "name": "stdout",
     "output_type": "stream",
     "text": [
      "start cumsum: False, with_prefix: True\n",
      "fit_time: 23.11544418334961\n",
      "compute_score_time: 3.695487976074219e-05\n",
      "cumsum: False, with prefix: True | auc: 0.725796005, se: 0.003553366125326552\n",
      "MSE between scores (cumsum=False) with and without prefix: 0.010538103328468596\n",
      "RMSE between scores (cumsum=False) with and without prefix: 0.10265526449465998\n",
      "MAE between scores (cumsum=False) with and without prefix: 0.06619450836457347\n"
     ]
    },
    {
     "name": "stderr",
     "output_type": "stream",
     "text": [
      "100%|██████████| 70615/70615 [00:00<00:00, 196845.08it/s]\n",
      "100%|██████████| 20000/20000 [00:00<00:00, 177433.78it/s]\n"
     ]
    },
    {
     "name": "stdout",
     "output_type": "stream",
     "text": [
      "start cumsum: True, with_prefix: False\n",
      "fit_time: 21.684338092803955\n",
      "compute_score_time: 0.00022220611572265625\n",
      "cumsum: True, with prefix: False | auc: 0.769341265, se: 0.0033278189596788873\n"
     ]
    },
    {
     "name": "stderr",
     "output_type": "stream",
     "text": [
      "100%|██████████| 70615/70615 [00:00<00:00, 84776.77it/s]\n",
      "100%|██████████| 20000/20000 [00:00<00:00, 82397.16it/s]\n"
     ]
    },
    {
     "name": "stdout",
     "output_type": "stream",
     "text": [
      "start cumsum: True, with_prefix: True\n",
      "fit_time: 23.27287793159485\n",
      "compute_score_time: 0.00020599365234375\n",
      "cumsum: True, with prefix: True | auc: 0.759815645, se: 0.0033655994399676707\n",
      "MSE between scores (cumsum=True) with and without prefix: 0.005326253971207811\n",
      "RMSE between scores (cumsum=True) with and without prefix: 0.07298118916000075\n",
      "MAE between scores (cumsum=True) with and without prefix: 0.05606122924400197\n",
      "Total experiment time: 324.6962020397186 seconds | 5.411603367328643 minutes\n"
     ]
    }
   ],
   "source": [
    "(\n",
    "    results_language_dataset_local_outlier_factor_moments,\n",
    "    lofm_scores,\n",
    ") = language_dataset_experiment(\n",
    "    data=data,\n",
    "    anomaly_detection_method=compute_local_outlier_factor_scores_based_on_moments,\n",
    "    anomaly_detection_kwargs={\"n_neighbors\": n_neighbours},\n",
    "    add_depth_to_kwargs=False,\n",
    "    plot=False,\n",
    "    plot_kwargs=None,\n",
    ")"
   ]
  },
  {
   "cell_type": "code",
   "execution_count": null,
   "metadata": {},
   "outputs": [
    {
     "data": {
      "text/plain": [
       "{'cumsum': [False, True],\n",
       " 'scores': [{'with_prefix=False': array([1.20986692, 1.06620175, 1.27139665, ..., 1.04026927, 1.12925876,\n",
       "          1.11252035]),\n",
       "   'with_prefix=True': array([1.02411849, 1.05819657, 1.02185985, ..., 1.06377009, 1.0853092 ,\n",
       "          1.07625392])},\n",
       "  {'with_prefix=False': array([1.01609433, 1.1279413 , 0.97148024, ..., 1.14631549, 1.29521714,\n",
       "          1.21960133]),\n",
       "   'with_prefix=True': array([1.05135096, 1.16539665, 0.97552234, ..., 1.13670091, 1.33435137,\n",
       "          1.34229914])}]}"
      ]
     },
     "execution_count": 28,
     "metadata": {},
     "output_type": "execute_result"
    }
   ],
   "source": [
    "lofm_scores"
   ]
  },
  {
   "cell_type": "code",
   "execution_count": null,
   "metadata": {},
   "outputs": [
    {
     "data": {
      "text/html": [
       "<div>\n",
       "<style scoped>\n",
       "    .dataframe tbody tr th:only-of-type {\n",
       "        vertical-align: middle;\n",
       "    }\n",
       "\n",
       "    .dataframe tbody tr th {\n",
       "        vertical-align: top;\n",
       "    }\n",
       "\n",
       "    .dataframe thead th {\n",
       "        text-align: right;\n",
       "    }\n",
       "</style>\n",
       "<table border=\"1\" class=\"dataframe\">\n",
       "  <thead>\n",
       "    <tr style=\"text-align: right;\">\n",
       "      <th></th>\n",
       "      <th>cumsum</th>\n",
       "      <th>with_prefix</th>\n",
       "      <th>auc</th>\n",
       "      <th>se</th>\n",
       "      <th>total_fit_time</th>\n",
       "      <th>total_compute_score_time</th>\n",
       "      <th>mse_between_scores</th>\n",
       "      <th>rmse_between_scores</th>\n",
       "      <th>mae_between_scores</th>\n",
       "    </tr>\n",
       "  </thead>\n",
       "  <tbody>\n",
       "    <tr>\n",
       "      <th>0</th>\n",
       "      <td>False</td>\n",
       "      <td>False</td>\n",
       "      <td>0.461696</td>\n",
       "      <td>0.004082</td>\n",
       "      <td>21.977288</td>\n",
       "      <td>0.000309</td>\n",
       "      <td>0.005326</td>\n",
       "      <td>0.072981</td>\n",
       "      <td>0.056061</td>\n",
       "    </tr>\n",
       "    <tr>\n",
       "      <th>1</th>\n",
       "      <td>False</td>\n",
       "      <td>True</td>\n",
       "      <td>0.725796</td>\n",
       "      <td>0.003553</td>\n",
       "      <td>45.092732</td>\n",
       "      <td>0.000346</td>\n",
       "      <td>0.005326</td>\n",
       "      <td>0.072981</td>\n",
       "      <td>0.056061</td>\n",
       "    </tr>\n",
       "    <tr>\n",
       "      <th>2</th>\n",
       "      <td>True</td>\n",
       "      <td>False</td>\n",
       "      <td>0.769341</td>\n",
       "      <td>0.003328</td>\n",
       "      <td>66.777070</td>\n",
       "      <td>0.000568</td>\n",
       "      <td>0.005326</td>\n",
       "      <td>0.072981</td>\n",
       "      <td>0.056061</td>\n",
       "    </tr>\n",
       "    <tr>\n",
       "      <th>3</th>\n",
       "      <td>True</td>\n",
       "      <td>True</td>\n",
       "      <td>0.759816</td>\n",
       "      <td>0.003366</td>\n",
       "      <td>90.049948</td>\n",
       "      <td>0.000774</td>\n",
       "      <td>0.005326</td>\n",
       "      <td>0.072981</td>\n",
       "      <td>0.056061</td>\n",
       "    </tr>\n",
       "  </tbody>\n",
       "</table>\n",
       "</div>"
      ],
      "text/plain": [
       "   cumsum  with_prefix       auc        se  total_fit_time  \\\n",
       "0   False        False  0.461696  0.004082       21.977288   \n",
       "1   False         True  0.725796  0.003553       45.092732   \n",
       "2    True        False  0.769341  0.003328       66.777070   \n",
       "3    True         True  0.759816  0.003366       90.049948   \n",
       "\n",
       "   total_compute_score_time  mse_between_scores  rmse_between_scores  \\\n",
       "0                  0.000309            0.005326             0.072981   \n",
       "1                  0.000346            0.005326             0.072981   \n",
       "2                  0.000568            0.005326             0.072981   \n",
       "3                  0.000774            0.005326             0.072981   \n",
       "\n",
       "   mae_between_scores  \n",
       "0            0.056061  \n",
       "1            0.056061  \n",
       "2            0.056061  \n",
       "3            0.056061  "
      ]
     },
     "execution_count": 29,
     "metadata": {},
     "output_type": "execute_result"
    }
   ],
   "source": [
    "pd.DataFrame(results_language_dataset_local_outlier_factor_moments)"
   ]
  },
  {
   "cell_type": "code",
   "execution_count": null,
   "metadata": {},
   "outputs": [],
   "source": [
    "pd.DataFrame(results_language_dataset_local_outlier_factor_moments).to_csv(\n",
    "    \"results/language_dataset_local_outlier_factor_moments.csv\"\n",
    ")"
   ]
  },
  {
   "cell_type": "markdown",
   "metadata": {},
   "source": [
    "### Using path signatures as features"
   ]
  },
  {
   "cell_type": "code",
   "execution_count": null,
   "metadata": {},
   "outputs": [
    {
     "name": "stderr",
     "output_type": "stream",
     "text": [
      "100%|██████████| 70615/70615 [00:00<00:00, 310553.83it/s]\n",
      "100%|██████████| 20000/20000 [00:00<00:00, 274292.59it/s]\n"
     ]
    },
    {
     "name": "stdout",
     "output_type": "stream",
     "text": [
      "start cumsum: False, with_prefix: False\n",
      "fit_time: 42.357036113739014\n",
      "compute_score_time: 2.9087066650390625e-05\n",
      "cumsum: False, with prefix: False | auc: 0.740694545, se: 0.0035208531922066005\n"
     ]
    },
    {
     "name": "stderr",
     "output_type": "stream",
     "text": [
      "100%|██████████| 70615/70615 [00:00<00:00, 124500.42it/s]\n",
      "100%|██████████| 20000/20000 [00:00<00:00, 124513.45it/s]\n"
     ]
    },
    {
     "name": "stdout",
     "output_type": "stream",
     "text": [
      "start cumsum: False, with_prefix: True\n",
      "fit_time: 39.638593912124634\n",
      "compute_score_time: 3.600120544433594e-05\n",
      "cumsum: False, with prefix: True | auc: 0.77737512, se: 0.003251635395765534\n",
      "MSE between scores (cumsum=False) with and without prefix: 4.90039086672342e+19\n",
      "RMSE between scores (cumsum=False) with and without prefix: 7000279184.949283\n",
      "MAE between scores (cumsum=False) with and without prefix: 3394218462.8142953\n"
     ]
    },
    {
     "name": "stderr",
     "output_type": "stream",
     "text": [
      "100%|██████████| 70615/70615 [00:00<00:00, 190309.87it/s]\n",
      "100%|██████████| 20000/20000 [00:00<00:00, 171146.13it/s]\n"
     ]
    },
    {
     "name": "stdout",
     "output_type": "stream",
     "text": [
      "start cumsum: True, with_prefix: False\n",
      "fit_time: 40.66683292388916\n",
      "compute_score_time: 3.0994415283203125e-05\n",
      "cumsum: True, with prefix: False | auc: 0.7868756699999999, se: 0.003196186581723461\n"
     ]
    },
    {
     "name": "stderr",
     "output_type": "stream",
     "text": [
      "100%|██████████| 70615/70615 [00:00<00:00, 85860.05it/s]\n",
      "100%|██████████| 20000/20000 [00:00<00:00, 81941.13it/s]\n"
     ]
    },
    {
     "name": "stdout",
     "output_type": "stream",
     "text": [
      "start cumsum: True, with_prefix: True\n",
      "fit_time: 43.234313011169434\n",
      "compute_score_time: 3.1948089599609375e-05\n",
      "cumsum: True, with prefix: True | auc: 0.775206775, se: 0.0032984200609127838\n",
      "MSE between scores (cumsum=True) with and without prefix: 0.011479458949545137\n",
      "RMSE between scores (cumsum=True) with and without prefix: 0.10714223700084452\n",
      "MAE between scores (cumsum=True) with and without prefix: 0.08431158182023502\n",
      "Total experiment time: 485.0304901599884 seconds | 8.083841502666473 minutes\n"
     ]
    }
   ],
   "source": [
    "(\n",
    "    results_language_dataset_local_outlier_factor_signatures,\n",
    "    lofs_scores,\n",
    ") = language_dataset_experiment(\n",
    "    data=data,\n",
    "    anomaly_detection_method=compute_local_outlier_factor_scores_signatures,\n",
    "    anomaly_detection_kwargs={\"backend\": \"iisignature\", \"n_neighbors\": n_neighbours},\n",
    "    add_depth_to_kwargs=True,\n",
    "    plot=False,\n",
    "    plot_kwargs=None,\n",
    ")"
   ]
  },
  {
   "cell_type": "code",
   "execution_count": null,
   "metadata": {},
   "outputs": [
    {
     "data": {
      "text/plain": [
       "{'cumsum': [False, True],\n",
       " 'scores': [{'with_prefix=False': array([9.91719486e-01, 1.02928345e+00, 9.84035562e-01, ...,\n",
       "          1.41230353e+09, 1.11587116e+00, 1.33388800e+10]),\n",
       "   'with_prefix=True': array([0.97877268, 0.98635321, 0.98657449, ..., 1.17402375, 1.26703633,\n",
       "          1.3691457 ])},\n",
       "  {'with_prefix=False': array([1.22339041, 1.21994408, 1.04862531, ..., 1.27383777, 1.32286783,\n",
       "          1.29187666]),\n",
       "   'with_prefix=True': array([1.00820954, 1.1756379 , 1.0497486 , ..., 1.18167617, 1.21942807,\n",
       "          1.23117207])}]}"
      ]
     },
     "execution_count": 32,
     "metadata": {},
     "output_type": "execute_result"
    }
   ],
   "source": [
    "lofs_scores"
   ]
  },
  {
   "cell_type": "code",
   "execution_count": null,
   "metadata": {},
   "outputs": [
    {
     "data": {
      "text/html": [
       "<div>\n",
       "<style scoped>\n",
       "    .dataframe tbody tr th:only-of-type {\n",
       "        vertical-align: middle;\n",
       "    }\n",
       "\n",
       "    .dataframe tbody tr th {\n",
       "        vertical-align: top;\n",
       "    }\n",
       "\n",
       "    .dataframe thead th {\n",
       "        text-align: right;\n",
       "    }\n",
       "</style>\n",
       "<table border=\"1\" class=\"dataframe\">\n",
       "  <thead>\n",
       "    <tr style=\"text-align: right;\">\n",
       "      <th></th>\n",
       "      <th>cumsum</th>\n",
       "      <th>with_prefix</th>\n",
       "      <th>auc</th>\n",
       "      <th>se</th>\n",
       "      <th>total_fit_time</th>\n",
       "      <th>total_compute_score_time</th>\n",
       "      <th>mse_between_scores</th>\n",
       "      <th>rmse_between_scores</th>\n",
       "      <th>mae_between_scores</th>\n",
       "    </tr>\n",
       "  </thead>\n",
       "  <tbody>\n",
       "    <tr>\n",
       "      <th>0</th>\n",
       "      <td>False</td>\n",
       "      <td>False</td>\n",
       "      <td>0.740695</td>\n",
       "      <td>0.003521</td>\n",
       "      <td>42.357036</td>\n",
       "      <td>0.000029</td>\n",
       "      <td>0.011479</td>\n",
       "      <td>0.107142</td>\n",
       "      <td>0.084312</td>\n",
       "    </tr>\n",
       "    <tr>\n",
       "      <th>1</th>\n",
       "      <td>False</td>\n",
       "      <td>True</td>\n",
       "      <td>0.777375</td>\n",
       "      <td>0.003252</td>\n",
       "      <td>81.995630</td>\n",
       "      <td>0.000065</td>\n",
       "      <td>0.011479</td>\n",
       "      <td>0.107142</td>\n",
       "      <td>0.084312</td>\n",
       "    </tr>\n",
       "    <tr>\n",
       "      <th>2</th>\n",
       "      <td>True</td>\n",
       "      <td>False</td>\n",
       "      <td>0.786876</td>\n",
       "      <td>0.003196</td>\n",
       "      <td>122.662463</td>\n",
       "      <td>0.000096</td>\n",
       "      <td>0.011479</td>\n",
       "      <td>0.107142</td>\n",
       "      <td>0.084312</td>\n",
       "    </tr>\n",
       "    <tr>\n",
       "      <th>3</th>\n",
       "      <td>True</td>\n",
       "      <td>True</td>\n",
       "      <td>0.775207</td>\n",
       "      <td>0.003298</td>\n",
       "      <td>165.896776</td>\n",
       "      <td>0.000128</td>\n",
       "      <td>0.011479</td>\n",
       "      <td>0.107142</td>\n",
       "      <td>0.084312</td>\n",
       "    </tr>\n",
       "  </tbody>\n",
       "</table>\n",
       "</div>"
      ],
      "text/plain": [
       "   cumsum  with_prefix       auc        se  total_fit_time  \\\n",
       "0   False        False  0.740695  0.003521       42.357036   \n",
       "1   False         True  0.777375  0.003252       81.995630   \n",
       "2    True        False  0.786876  0.003196      122.662463   \n",
       "3    True         True  0.775207  0.003298      165.896776   \n",
       "\n",
       "   total_compute_score_time  mse_between_scores  rmse_between_scores  \\\n",
       "0                  0.000029            0.011479             0.107142   \n",
       "1                  0.000065            0.011479             0.107142   \n",
       "2                  0.000096            0.011479             0.107142   \n",
       "3                  0.000128            0.011479             0.107142   \n",
       "\n",
       "   mae_between_scores  \n",
       "0            0.084312  \n",
       "1            0.084312  \n",
       "2            0.084312  \n",
       "3            0.084312  "
      ]
     },
     "execution_count": 33,
     "metadata": {},
     "output_type": "execute_result"
    }
   ],
   "source": [
    "pd.DataFrame(results_language_dataset_local_outlier_factor_signatures)"
   ]
  },
  {
   "cell_type": "code",
   "execution_count": null,
   "metadata": {},
   "outputs": [],
   "source": [
    "pd.DataFrame(results_language_dataset_local_outlier_factor_signatures).to_csv(\n",
    "    \"results/language_dataset_local_outlier_factor_signatures.csv\"\n",
    ")"
   ]
  }
 ],
 "metadata": {
  "hide_input": false,
  "kernelspec": {
   "display_name": "Python 3",
   "language": "python",
   "name": "python3"
  },
  "language_info": {
   "codemirror_mode": {
    "name": "ipython",
    "version": 3
   },
   "file_extension": ".py",
   "mimetype": "text/x-python",
   "name": "python",
   "nbconvert_exporter": "python",
   "pygments_lexer": "ipython3",
   "version": "3.9.18"
  }
 },
 "nbformat": 4,
 "nbformat_minor": 4
}
