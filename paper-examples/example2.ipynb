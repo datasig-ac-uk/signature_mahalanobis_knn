{
 "cells": [
  {
   "cell_type": "code",
   "execution_count": 1,
   "id": "b430e261-33b2-4878-94d6-46e5dbb18c72",
   "metadata": {},
   "outputs": [],
   "source": [
    "import sys\n",
    "import os\n",
    "\n",
    "sys.path.insert(0, os.path.join(\"..\", \"..\"))\n",
    "import random\n",
    "import time\n",
    "\n",
    "import sklearn\n",
    "import numpy as np\n",
    "import matplotlib.lines as mlines\n",
    "import matplotlib.pyplot as plt\n",
    "import pandas as pd\n",
    "\n",
    "import Data\n",
    "from signature_mahalanobis_knn import SignatureMahalanobisKNN,Mahalanobis\n",
    "\n",
    "from signature_mahalanobis_knn.utils import compute_auc_given_dists\n",
    "import UCR_data_support"
   ]
  },
  {
   "cell_type": "code",
   "execution_count": 2,
   "id": "34fc097e-0eb5-4c0d-9973-4dc8810ec398",
   "metadata": {},
   "outputs": [],
   "source": [
    "DATA_DIR = \"./data/\"\n",
    "#importlib.reload(Data)\n",
    "#importlib.reload(SigMahaKNN)"
   ]
  },
  {
   "cell_type": "code",
   "execution_count": 3,
   "id": "b7a56abc",
   "metadata": {},
   "outputs": [],
   "source": [
    "n_neighbours = 50"
   ]
  },
  {
   "cell_type": "code",
   "execution_count": 4,
   "id": "1dd07d56-fd79-4918-b9f8-db9190a837d9",
   "metadata": {},
   "outputs": [],
   "source": [
    "data = Data.Data(n_samples=(800, 30, 30), if_sample=True)\n",
    "data.load_pen_digit()\n"
   ]
  },
  {
   "cell_type": "markdown",
   "id": "79e05b28",
   "metadata": {},
   "source": [
    "## Can we reproduce distances?\n",
    "\n",
    "For depth 4, digit 0:"
   ]
  },
  {
   "cell_type": "code",
   "execution_count": 6,
   "id": "a4675b42",
   "metadata": {},
   "outputs": [
    {
     "name": "stdout",
     "output_type": "stream",
     "text": [
      "doing digit 0 doing signature level  4\n",
      "fit_time: 4.060782432556152\n"
     ]
    }
   ],
   "source": [
    "digit = 0\n",
    "depth = 4\n",
    "data.load_pen_digit(digit=digit)\n",
    "print(\"doing digit\", digit, \"doing signature level \", depth)\n",
    "signature_maha_knn = SignatureMahalanobisKNN()\n",
    "# Measure the time spent on fit\n",
    "start_time = time.time()\n",
    "signature_maha_knn.fit(\n",
    "    knn_library=\"sklearn\",\n",
    "    X_train=data.corpus,\n",
    "    signature_kwargs={\n",
    "        \"depth\": depth,\n",
    "    },\n",
    ")\n",
    "fit_time = time.time() - start_time\n",
    "print(f\"fit_time: {fit_time}\")\n",
    "\n",
    "inlier_dists, inlier_ix = signature_maha_knn.conformance(\n",
    "    data.test_inlier, n_neighbors=n_neighbours, debug=True\n",
    ")\n",
    "outlier_dists, outlier_ix = signature_maha_knn.conformance(\n",
    "    data.test_outlier, n_neighbors=n_neighbours, debug=True\n",
    ")"
   ]
  },
  {
   "cell_type": "code",
   "execution_count": 7,
   "metadata": {},
   "outputs": [
    {
     "name": "stdout",
     "output_type": "stream",
     "text": [
      "index of closest train point to test_point[0] = 766\n",
      "Reported conformance = 0.14569653916925893\n",
      "Reported conformance squared = 0.0212274815258994\n"
     ]
    }
   ],
   "source": [
    "print('index of closest train point to test_point[0] =',inlier_ix[0,0])\n",
    "print('Reported conformance =', inlier_dists[0])\n",
    "print('Reported conformance squared =', inlier_dists[0]**2)"
   ]
  },
  {
   "cell_type": "code",
   "execution_count": 8,
   "metadata": {},
   "outputs": [
    {
     "name": "stdout",
     "output_type": "stream",
     "text": [
      "Reported distance = 0.021227562800049782\n"
     ]
    }
   ],
   "source": [
    "# Compute distances as per the old method\n",
    "test_sig = signature_maha_knn.signature_transform.transform(data.test_inlier[0]).iloc[0].values\n",
    "train_sig = signature_maha_knn.signatures_train[766]\n",
    "dist = signature_maha_knn.mahal_distance.distance(test_sig,train_sig)\n",
    "print('Reported distance =', dist)"
   ]
  },
  {
   "cell_type": "code",
   "execution_count": null,
   "metadata": {},
   "outputs": [],
   "source": []
  }
 ],
 "metadata": {
  "kernelspec": {
   "display_name": "Python 3 (ipykernel)",
   "language": "python",
   "name": "python3"
  },
  "language_info": {
   "codemirror_mode": {
    "name": "ipython",
    "version": 3
   },
   "file_extension": ".py",
   "mimetype": "text/x-python",
   "name": "python",
   "nbconvert_exporter": "python",
   "pygments_lexer": "ipython3",
   "version": "3.9.13"
  }
 },
 "nbformat": 4,
 "nbformat_minor": 5
}
